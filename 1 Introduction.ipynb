{
 "cells": [
  {
   "cell_type": "markdown",
   "id": "eebc5538-c7bb-425f-8241-47a50266fdfd",
   "metadata": {},
   "source": [
    "# 1.2 A very short introduction to Python\n"
   ]
  },
  {
   "cell_type": "markdown",
   "id": "d2b09731-addb-4ca2-9fcc-fc3b2b6a8d13",
   "metadata": {},
   "source": [
    "## Basics"
   ]
  },
  {
   "cell_type": "code",
   "execution_count": 1,
   "id": "06e2b134-a09f-4d11-8a42-74282fc3a27c",
   "metadata": {},
   "outputs": [
    {
     "data": {
      "text/plain": [
       "2"
      ]
     },
     "execution_count": 1,
     "metadata": {},
     "output_type": "execute_result"
    }
   ],
   "source": [
    "1+1"
   ]
  },
  {
   "cell_type": "markdown",
   "id": "b6f3b4f8-1f02-4eb8-a6c7-d87e338a36ae",
   "metadata": {},
   "source": [
    "## Lists"
   ]
  },
  {
   "cell_type": "code",
   "execution_count": 1,
   "id": "4fc5fbfe-a382-4338-b4dd-68ab574d844d",
   "metadata": {},
   "outputs": [
    {
     "data": {
      "text/plain": [
       "[1, 2, 3, 4, 5]"
      ]
     },
     "execution_count": 1,
     "metadata": {},
     "output_type": "execute_result"
    }
   ],
   "source": [
    "y= [1,2,3,4,5]\n",
    "y"
   ]
  },
  {
   "cell_type": "code",
   "execution_count": 2,
   "id": "8a1b9031-b27c-43c5-acf2-a6efd9e63046",
   "metadata": {},
   "outputs": [
    {
     "data": {
      "text/plain": [
       "['Hello', 'World']"
      ]
     },
     "execution_count": 2,
     "metadata": {},
     "output_type": "execute_result"
    }
   ],
   "source": [
    "hello=[\"Hello\", 'World']\n",
    "hello"
   ]
  },
  {
   "cell_type": "markdown",
   "id": "44d24d41-cc2e-47ef-808e-7f9ff30c5021",
   "metadata": {},
   "source": [
    "## Arrays"
   ]
  },
  {
   "cell_type": "code",
   "execution_count": 6,
   "id": "9bd49913-f70b-416f-b738-5d778213e749",
   "metadata": {},
   "outputs": [
    {
     "data": {
      "text/plain": [
       "array([1, 2, 3, 4, 5])"
      ]
     },
     "execution_count": 6,
     "metadata": {},
     "output_type": "execute_result"
    }
   ],
   "source": [
    "import numpy as np\n",
    "y=np.array([1, 2, 3,4,5])\n",
    "y"
   ]
  },
  {
   "cell_type": "markdown",
   "id": "99813a14-bd94-4e4c-9fa5-a2863b97ec02",
   "metadata": {},
   "source": [
    "## Functions"
   ]
  },
  {
   "cell_type": "code",
   "execution_count": 4,
   "id": "4f29bdfd-8161-41bd-9b23-db730750e9e8",
   "metadata": {},
   "outputs": [
    {
     "data": {
      "text/plain": [
       "3.0"
      ]
     },
     "execution_count": 4,
     "metadata": {},
     "output_type": "execute_result"
    }
   ],
   "source": [
    "# generate the array `z`\n",
    "z=np.arange(1,6) \n",
    "\n",
    "# compute the mean of the enries in `z`\n",
    "z.mean()"
   ]
  }
 ],
 "metadata": {
  "kernelspec": {
   "display_name": "Python 3 (ipykernel)",
   "language": "python",
   "name": "python3"
  },
  "language_info": {
   "codemirror_mode": {
    "name": "ipython",
    "version": 3
   },
   "file_extension": ".py",
   "mimetype": "text/x-python",
   "name": "python",
   "nbconvert_exporter": "python",
   "pygments_lexer": "ipython3",
   "version": "3.9.15"
  }
 },
 "nbformat": 4,
 "nbformat_minor": 5
}
